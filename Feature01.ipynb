{
  "nbformat": 4,
  "nbformat_minor": 0,
  "metadata": {
    "colab": {
      "provenance": []
    },
    "kernelspec": {
      "name": "python3",
      "display_name": "Python 3"
    },
    "language_info": {
      "name": "python"
    }
  },
  "cells": [
    {
      "cell_type": "code",
      "execution_count": null,
      "metadata": {
        "id": "HXpS8maSHCnN"
      },
      "outputs": [],
      "source": [
        "import pandas as pd\n",
        " \n",
        "# start data dictionary.\n",
        "data_dict = {'Property': [\"Wilson Ave\", \"Longfield\",\"South 28th\", \"North 41st\", \"Garland\"],\n",
        "              \n",
        "             'Income': [50215, 32175, 85254, 65412, 96231],\n",
        "              \n",
        "             'Expenses': [125, 12512, 65125, 89125,32515] }\n",
        "\n",
        " \n",
        "# Create DataFrame\n",
        "data = pd.DataFrame(data_dict)\n",
        " \n",
        "# Write to CSV file\n",
        "data.to_csv(\"PropertyData.csv\")\n",
        " "
      ]
    },
    {
      "cell_type": "code",
      "source": [
        "import pandas as pd\n",
        "\n",
        "Property = pd.read_csv('PropertyData.csv')\n",
        "\n",
        "print(Property)"
      ],
      "metadata": {
        "colab": {
          "base_uri": "https://localhost:8080/"
        },
        "id": "rjDony9uJPTd",
        "outputId": "a8fecff6-8fdb-424a-f956-ba61507b65e4"
      },
      "execution_count": null,
      "outputs": [
        {
          "output_type": "stream",
          "name": "stdout",
          "text": [
            "   Unnamed: 0    Property  Income  Expenses\n",
            "0           0  Wilson Ave   50215       125\n",
            "1           1   Longfield   32175     12512\n",
            "2           2  South 28th   85254     65125\n",
            "3           3  North 41st   65412     89125\n",
            "4           4     Garland   96231     32515\n"
          ]
        }
      ]
    }
  ]
}