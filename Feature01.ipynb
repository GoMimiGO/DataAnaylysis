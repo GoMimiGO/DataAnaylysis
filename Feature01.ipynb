{
  "nbformat": 4,
  "nbformat_minor": 0,
  "metadata": {
    "colab": {
      "provenance": []
    },
    "kernelspec": {
      "name": "python3",
      "display_name": "Python 3"
    },
    "language_info": {
      "name": "python"
    }
  },
  "cells": [
    {
      "cell_type": "code",
      "execution_count": null,
      "metadata": {
        "id": "HXpS8maSHCnN"
      },
      "outputs": [],
      "source": [
        "import pandas as pd\n",
        " \n",
        "# start data dictionary.\n",
        "data_dict = {'Property': [\"Wilson Ave\", \"Longfield\",\"South 28th\", \"North 41st\", \"Garland\"],\n",
        "              \n",
        "             'Income': [50215, 32175, 85254, 65412, 96231],\n",
        "              \n",
        "             'Expenses': [125, 12512, 65125, 89125,32515] }\n",
        "\n",
        " \n",
        "# Create DataFrame\n",
        "data = pd.DataFrame(data_dict)\n",
        " \n",
        "# Write to CSV file\n",
        "data.to_csv(\"PropertyData.csv\")\n",
        " "
      ]
    }
  ]
}