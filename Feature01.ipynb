{
  "nbformat": 4,
  "nbformat_minor": 0,
  "metadata": {
    "colab": {
      "provenance": []
    },
    "kernelspec": {
      "name": "python3",
      "display_name": "Python 3"
    },
    "language_info": {
      "name": "python"
    }
  },
  "cells": [
    {
      "cell_type": "code",
      "execution_count": 7,
      "metadata": {
        "id": "HXpS8maSHCnN"
      },
      "outputs": [],
      "source": [
        "import pandas as pd\n",
        " \n",
        "# start data dictionary.\n",
        "data_dict = {'Property': [\"Wilson Ave\", \"Longfield\",\"South 28th\", \"North 41st\", \"Garland\"],\n",
        "              \n",
        "             'Income': [50215, 32175, 85254, 65412, 96231],\n",
        "              \n",
        "             'Expenses': [125, 12512, 65125, 89125,32515] }\n",
        "\n",
        " \n",
        "# Create DataFrame\n",
        "data = pd.DataFrame(data_dict)\n",
        " \n",
        "# Write to CSV file\n",
        "data.to_csv(\"PropertyData.csv\")\n",
        " "
      ]
    },
    {
      "cell_type": "code",
      "source": [
        "import pandas as pd\n",
        "\n",
        "Property = pd.read_csv('PropertyData.csv')\n",
        "\n",
        "print(Property)"
      ],
      "metadata": {
        "colab": {
          "base_uri": "https://localhost:8080/"
        },
        "id": "rjDony9uJPTd",
        "outputId": "a8fecff6-8fdb-424a-f956-ba61507b65e4"
      },
      "execution_count": 8,
      "outputs": [
        {
          "output_type": "stream",
          "name": "stdout",
          "text": [
            "   Unnamed: 0    Property  Income  Expenses\n",
            "0           0  Wilson Ave   50215       125\n",
            "1           1   Longfield   32175     12512\n",
            "2           2  South 28th   85254     65125\n",
            "3           3  North 41st   65412     89125\n",
            "4           4     Garland   96231     32515\n"
          ]
        }
      ]
    },
    {
      "cell_type": "code",
      "source": [
        "# Tuple\n",
        "tuple01 = (\"John\", \"Sue\", \"Susan\", \"Bob\")\n",
        "tuple02 = (10,12,2,3,45)\n",
        "tuple03 = (True, False, True, False, False)\n",
        "tuple04 = (\"test\", 45, True, 23, \"tester\")\n",
        "print(tuple01)\n",
        "print(tuple02)\n",
        "print(tuple03)\n",
        "print(tuple04)\n",
        "print(type(tuple01))\n",
        "print(len(tuple01))"
      ],
      "metadata": {
        "colab": {
          "base_uri": "https://localhost:8080/"
        },
        "id": "yJzyO0c6L57M",
        "outputId": "bf719f69-0679-4dd2-ebe4-afea952c13ef"
      },
      "execution_count": 9,
      "outputs": [
        {
          "output_type": "stream",
          "name": "stdout",
          "text": [
            "('John', 'Sue', 'Susan', 'Bob')\n",
            "(10, 12, 2, 3, 45)\n",
            "(True, False, True, False, False)\n",
            "('test', 45, True, 23, 'tester')\n",
            "<class 'tuple'>\n",
            "4\n"
          ]
        }
      ]
    }
  ]
}