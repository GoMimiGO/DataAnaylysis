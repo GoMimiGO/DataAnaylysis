{
  "nbformat": 4,
  "nbformat_minor": 0,
  "metadata": {
    "colab": {
      "provenance": []
    },
    "kernelspec": {
      "name": "python3",
      "display_name": "Python 3"
    },
    "language_info": {
      "name": "python"
    }
  },
  "cells": [
    {
      "cell_type": "code",
      "execution_count": 9,
      "metadata": {
        "colab": {
          "base_uri": "https://localhost:8080/"
        },
        "id": "He0k6sfsgMQT",
        "outputId": "fb97ca6b-b15e-403f-8580-517c6567cc6b"
      },
      "outputs": [
        {
          "output_type": "stream",
          "name": "stdout",
          "text": [
            "0     2359\n",
            "1    16273\n",
            "2    17667\n",
            "dtype: int64\n"
          ]
        }
      ],
      "source": [
        "#sum data\n",
        "import pandas as pd\n",
        "\n",
        "data = [[1050, 1458, 1871], [1050, 14565, 7898], [259, 250, 7898]]\n",
        "\n",
        "df = pd.DataFrame(data)\n",
        "\n",
        "print(df.sum())"
      ]
    },
    {
      "cell_type": "code",
      "source": [
        "#find the mean -Mean - The average value\n",
        "\n",
        "import pandas as pd\n",
        "\n",
        "data = [[1050, 1458, 1871], [1050, 14565, 7898], [259, 250, 7898]]\n",
        "\n",
        "df = pd.DataFrame(data)\n",
        "\n",
        "print(df.mean())"
      ],
      "metadata": {
        "colab": {
          "base_uri": "https://localhost:8080/"
        },
        "id": "QlhYA1v8lKXX",
        "outputId": "4414eddb-b752-4ce1-99b7-08e49f33a670"
      },
      "execution_count": 10,
      "outputs": [
        {
          "output_type": "stream",
          "name": "stdout",
          "text": [
            "0     786.333333\n",
            "1    5424.333333\n",
            "2    5889.000000\n",
            "dtype: float64\n"
          ]
        }
      ]
    },
    {
      "cell_type": "code",
      "source": [
        "#find the Mode - The most common value\n",
        "\n",
        "import pandas as pd\n",
        "\n",
        "data = [[1050, 1458, 1871], [1050, 14565, 7898], [259, 250, 7898]]\n",
        "\n",
        "df = pd.DataFrame(data)\n",
        "\n",
        "print(df.mode())"
      ],
      "metadata": {
        "colab": {
          "base_uri": "https://localhost:8080/"
        },
        "id": "gJtESjIVlgwF",
        "outputId": "7b440002-622f-4122-890b-a88655b134af"
      },
      "execution_count": 11,
      "outputs": [
        {
          "output_type": "stream",
          "name": "stdout",
          "text": [
            "        0      1       2\n",
            "0  1050.0    250  7898.0\n",
            "1     NaN   1458     NaN\n",
            "2     NaN  14565     NaN\n"
          ]
        }
      ]
    },
    {
      "cell_type": "code",
      "source": [
        "#Median - The mid point value\n",
        "import pandas as pd\n",
        "\n",
        "data = [[1050, 1458, 1871], [1050, 14565, 7898], [259, 250, 7898]]\n",
        "\n",
        "df = pd.DataFrame(data)\n",
        "\n",
        "print(df.median())"
      ],
      "metadata": {
        "colab": {
          "base_uri": "https://localhost:8080/"
        },
        "id": "ODTAZnLPndEz",
        "outputId": "dfb8e2e8-0c90-40c8-ce3d-4fccbe598178"
      },
      "execution_count": 13,
      "outputs": [
        {
          "output_type": "stream",
          "name": "stdout",
          "text": [
            "0    1050.0\n",
            "1    1458.0\n",
            "2    7898.0\n",
            "dtype: float64\n"
          ]
        }
      ]
    },
    {
      "cell_type": "code",
      "source": [
        "#find the maximum and minimum number\n",
        "import pandas as pd\n",
        "\n",
        "data = [[1050, 1458, 1871], [1050, 14565, 7898], [259, 250, 7898]]\n",
        "\n",
        "df = pd.DataFrame(data)\n",
        "\n",
        "print(df.max())\n",
        "print(df.min())\n"
      ],
      "metadata": {
        "colab": {
          "base_uri": "https://localhost:8080/"
        },
        "id": "eMmbbaHJmYYa",
        "outputId": "b05ac2c9-9b6a-4e9b-d2c7-a87b0d00d52d"
      },
      "execution_count": 14,
      "outputs": [
        {
          "output_type": "stream",
          "name": "stdout",
          "text": [
            "0     1050\n",
            "1    14565\n",
            "2     7898\n",
            "dtype: int64\n",
            "0     259\n",
            "1     250\n",
            "2    1871\n",
            "dtype: int64\n"
          ]
        }
      ]
    },
    {
      "cell_type": "code",
      "source": [
        "#find the average \n",
        "import numpy\n",
        "\n",
        "data = [1050, 1458, 1871, 1050, 14565, 7898, 259, 250, 7898]\n",
        "\n",
        "x = numpy.mean(data)\n",
        "\n",
        "print(x)"
      ],
      "metadata": {
        "colab": {
          "base_uri": "https://localhost:8080/"
        },
        "id": "wWcyymEKrDOf",
        "outputId": "a1bc61cd-88b7-4444-91f1-24775ee4a6c6"
      },
      "execution_count": 17,
      "outputs": [
        {
          "output_type": "stream",
          "name": "stdout",
          "text": [
            "4033.222222222222\n"
          ]
        }
      ]
    },
    {
      "cell_type": "code",
      "source": [
        "#find the middle value:\n",
        "import numpy\n",
        "\n",
        "data = [1050, 1458, 1871, 1050, 14565, 7898, 259, 250, 7898]\n",
        "\n",
        "x = numpy.median(data)\n",
        "\n",
        "print(x)"
      ],
      "metadata": {
        "colab": {
          "base_uri": "https://localhost:8080/"
        },
        "id": "FqGMb_xkrpVS",
        "outputId": "39c0a9e4-f3a1-4353-feee-5664a7405945"
      },
      "execution_count": 19,
      "outputs": [
        {
          "output_type": "stream",
          "name": "stdout",
          "text": [
            "1458.0\n"
          ]
        }
      ]
    },
    {
      "cell_type": "code",
      "source": [
        "#Percentiles are used in statistics to give you a number that describes the value that a given percent of the values are lower than.\n",
        "import numpy\n",
        "\n",
        "data = [1050, 1458, 1871, 1050, 14565, 7898, 259, 250, 7898]\n",
        "\n",
        "x = numpy.percentile(data, 75)\n",
        "\n",
        "print(x)"
      ],
      "metadata": {
        "colab": {
          "base_uri": "https://localhost:8080/"
        },
        "id": "GhaelSv5s40A",
        "outputId": "b09b2584-ecef-4005-a76b-347371137a1c"
      },
      "execution_count": 20,
      "outputs": [
        {
          "output_type": "stream",
          "name": "stdout",
          "text": [
            "7898.0\n"
          ]
        }
      ]
    },
    {
      "cell_type": "code",
      "source": [
        "data1 = [1050, 1458, 1871, 1050, 14565, 7898, 259, 250, 7898]\n",
        "data2 = [\"Woodland\", \"Garland\", \"Broadway\", \"South 28th\", \"North 37th\", \"Happy Lane\", \"Busy Nerves\", \"Dumlap\", \"Waverly Lane\"]\n",
        "\n",
        "data3 = data1 + data2\n",
        "print(data3)"
      ],
      "metadata": {
        "colab": {
          "base_uri": "https://localhost:8080/"
        },
        "id": "oG30BIzquzh5",
        "outputId": "107c1e64-1bd0-4b24-bc52-cee39e0e788f"
      },
      "execution_count": 21,
      "outputs": [
        {
          "output_type": "stream",
          "name": "stdout",
          "text": [
            "[1050, 1458, 1871, 1050, 14565, 7898, 259, 250, 7898, 'Woodland', 'Garland', 'Broadway', 'South 28th', 'North 37th', 'Happy Lane', 'Busy Nerves', 'Dumlap', 'Waverly Lane']\n"
          ]
        }
      ]
    },
    {
      "cell_type": "code",
      "source": [
        "data1 = [1050, 1458, 1871, 1050, 14565, 7898, 259, 250, 7898]\n",
        "\n",
        "x = data1.count(9)\n",
        "\n",
        "print(x)"
      ],
      "metadata": {
        "colab": {
          "base_uri": "https://localhost:8080/"
        },
        "id": "1_bWNpz4v9wV",
        "outputId": "234e8a5c-820e-4725-9327-aae708114d49"
      },
      "execution_count": 22,
      "outputs": [
        {
          "output_type": "stream",
          "name": "stdout",
          "text": [
            "0\n"
          ]
        }
      ]
    }
  ]
}