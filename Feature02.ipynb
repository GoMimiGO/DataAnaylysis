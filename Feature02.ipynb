{
  "nbformat": 4,
  "nbformat_minor": 0,
  "metadata": {
    "colab": {
      "provenance": []
    },
    "kernelspec": {
      "name": "python3",
      "display_name": "Python 3"
    },
    "language_info": {
      "name": "python"
    }
  },
  "cells": [
    {
      "cell_type": "code",
      "source": [
        "import pandas as pd\n",
        " \n",
        "# start data dictionary.\n",
        "data_dict = {'Property': [\"Wilson Ave\", \"Broadway\",\"Longfield\",\"South 28th\", \"North 41st\", \"Garland\"],\n",
        "             \n",
        "             'Misc': [321, \"\", 12357, 2350, 1252, 631],\n",
        "           \n",
        "             'Misc02': [50215, \"\", 32175, 85254, 65412, 96231],\n",
        "\n",
        "             'Travel': [12354, \"\", 8954, 3580, 5875, 65],\n",
        "              \n",
        "             'Income': [50215, 0, 32175, 85254, 65412, 96231],\n",
        "              \n",
        "             'Expenses': [125, 0, 12512, 65125, 89125,32515] }\n",
        "\n",
        " \n",
        "# Create DataFrame\n",
        "data = pd.DataFrame(data_dict)\n",
        " \n",
        "# Write to CSV file\n",
        "data.to_csv(\"PropertyData02.csv\")\n",
        "\n",
        "# Print the output.\n",
        "print(data)"
      ],
      "metadata": {
        "id": "oWmQf9zuNPuV",
        "colab": {
          "base_uri": "https://localhost:8080/"
        },
        "outputId": "7d6d9c23-e903-4e67-9f63-1c27c8c9d907"
      },
      "execution_count": null,
      "outputs": [
        {
          "output_type": "stream",
          "name": "stdout",
          "text": [
            "     Property   Misc Misc02 Travel  Income  Expenses\n",
            "0  Wilson Ave    321  50215  12354   50215       125\n",
            "1    Broadway                            0         0\n",
            "2   Longfield  12357  32175   8954   32175     12512\n",
            "3  South 28th   2350  85254   3580   85254     65125\n",
            "4  North 41st   1252  65412   5875   65412     89125\n",
            "5     Garland    631  96231     65   96231     32515\n"
          ]
        }
      ]
    },
    {
      "cell_type": "code",
      "source": [
        "# Replace null value with 145\n",
        "import pandas as pd\n",
        "\n",
        "df=pd.read_csv('PropertyData02.csv')\n",
        "\n",
        "df.fillna(145,inplace=True)\n",
        "\n",
        "print(df.to_string())\n",
        "\n",
        "# Write to CSV file\n",
        "df.to_csv(\"PropertyData03.csv\")"
      ],
      "metadata": {
        "colab": {
          "base_uri": "https://localhost:8080/"
        },
        "id": "v-81TD2gQYnf",
        "outputId": "5b839585-7b2a-4c54-b91c-7636c75165c8"
      },
      "execution_count": null,
      "outputs": [
        {
          "output_type": "stream",
          "name": "stdout",
          "text": [
            "   Unnamed: 0    Property     Misc   Misc02   Travel  Income  Expenses\n",
            "0           0  Wilson Ave    321.0  50215.0  12354.0   50215       125\n",
            "1           1    Broadway    145.0    145.0    145.0       0         0\n",
            "2           2   Longfield  12357.0  32175.0   8954.0   32175     12512\n",
            "3           3  South 28th   2350.0  85254.0   3580.0   85254     65125\n",
            "4           4  North 41st   1252.0  65412.0   5875.0   65412     89125\n",
            "5           5     Garland    631.0  96231.0     65.0   96231     32515\n"
          ]
        }
      ]
    },
    {
      "cell_type": "code",
      "source": [
        "# Replace 0 value with another value\n",
        "import pandas as pd\n",
        "\n",
        "df=pd.read_csv('PropertyData03.csv')\n",
        "\n",
        "df['Income']   = df['Income'].replace(0, 11212)\n",
        "df['Expenses'] = df['Expenses'].replace(0, 112)\n",
        "\n",
        "print(df)\n",
        "\n",
        "# Write to CSV file\n",
        "df.to_csv(\"PropertyData04.csv\")"
      ],
      "metadata": {
        "colab": {
          "base_uri": "https://localhost:8080/"
        },
        "id": "b7JaQV8faz9k",
        "outputId": "c5455263-1a7e-43ce-a6ba-7f498256d06a"
      },
      "execution_count": null,
      "outputs": [
        {
          "output_type": "stream",
          "name": "stdout",
          "text": [
            "   Unnamed: 0.1  Unnamed: 0    Property     Misc   Misc02   Travel  Income  \\\n",
            "0             0           0  Wilson Ave    321.0  50215.0  12354.0   50215   \n",
            "1             1           1    Broadway    145.0    145.0    145.0   11212   \n",
            "2             2           2   Longfield  12357.0  32175.0   8954.0   32175   \n",
            "3             3           3  South 28th   2350.0  85254.0   3580.0   85254   \n",
            "4             4           4  North 41st   1252.0  65412.0   5875.0   65412   \n",
            "5             5           5     Garland    631.0  96231.0     65.0   96231   \n",
            "\n",
            "   Expenses  \n",
            "0       125  \n",
            "1       112  \n",
            "2     12512  \n",
            "3     65125  \n",
            "4     89125  \n",
            "5     32515  \n"
          ]
        }
      ]
    }
  ]
}