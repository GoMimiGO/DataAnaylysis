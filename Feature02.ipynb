{
  "nbformat": 4,
  "nbformat_minor": 0,
  "metadata": {
    "colab": {
      "provenance": []
    },
    "kernelspec": {
      "name": "python3",
      "display_name": "Python 3"
    },
    "language_info": {
      "name": "python"
    }
  },
  "cells": [
    {
      "cell_type": "code",
      "source": [
        "import pandas as pd\n",
        " \n",
        "# start data dictionary.\n",
        "data_dict = {'Property': [\"Wilson Ave\", \"Broadway\",\"Longfield\",\"South 28th\", \"North 41st\", \"Garland\"],\n",
        "             \n",
        "             'Misc': [321, \"\", 12357, 2350, 1252, 631],\n",
        "           \n",
        "             'Misc02': [50215, \"\", 32175, 85254, 65412, 96231],\n",
        "\n",
        "             'Travel': [12354, \"\", 8954, 3580, 5875, 65],\n",
        "              \n",
        "             'Income': [50215, 0, 32175, 85254, 65412, 96231],\n",
        "              \n",
        "             'Expenses': [125, 0, 12512, 65125, 89125,32515] }\n",
        "\n",
        " \n",
        "# Create DataFrame\n",
        "data = pd.DataFrame(data_dict)\n",
        " \n",
        "# Write to CSV file\n",
        "data.to_csv(\"PropertyData02.csv\")\n",
        "\n",
        "# Print the output.\n",
        "print(data)"
      ],
      "metadata": {
        "id": "oWmQf9zuNPuV",
        "colab": {
          "base_uri": "https://localhost:8080/"
        },
        "outputId": "7d6d9c23-e903-4e67-9f63-1c27c8c9d907"
      },
      "execution_count": null,
      "outputs": [
        {
          "output_type": "stream",
          "name": "stdout",
          "text": [
            "     Property   Misc Misc02 Travel  Income  Expenses\n",
            "0  Wilson Ave    321  50215  12354   50215       125\n",
            "1    Broadway                            0         0\n",
            "2   Longfield  12357  32175   8954   32175     12512\n",
            "3  South 28th   2350  85254   3580   85254     65125\n",
            "4  North 41st   1252  65412   5875   65412     89125\n",
            "5     Garland    631  96231     65   96231     32515\n"
          ]
        }
      ]
    }
  ]
}